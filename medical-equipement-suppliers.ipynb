{
 "cells": [
  {
   "cell_type": "markdown",
   "id": "43e8b94c-d1d7-4e96-9ffc-77a324ec3f68",
   "metadata": {},
   "source": [
    "# **Project: Healthcare Suppliers Analysis and Prediction**\n",
    "**Author:** Giovanni Capanna\n",
    "---\n",
    "### **Section 1: Business Understanding**\n",
    "#### **Brief Description**\n",
    "The healthcare system and access to care are complex topics. A key factor for patients is knowing whether a healthcare supplier \"accepts assignment,\" which directly impacts costs and accessibility. This project aims to analyze a [public dataset from the Centers for Medicare & Medicaid Services (CMS)](https://data.cms.gov/provider-data/) to shed light on this ecosystem.\n",
    "#### **Project Questions**\n",
    "Through the analysis of this data, we will seek to answer three main questions:\n",
    "1.  **Question 1:** In which states are most healthcare suppliers concentrated?\n",
    "2.  **Question 2:** What is the proportion of suppliers who accept assignment compared to those who do not?\n",
    "3.  **Question 3:** Is it possible to build a machine learning model to predict whether a new supplier will accept assignment based on its characteristics?\n"
   ]
  },
  {
   "cell_type": "markdown",
   "id": "afd4b46a",
   "metadata": {},
   "source": [
    "### **Section 2: Data Understanding**\n",
    "#### **Access and Explore**\n",
    "In this phase, we load the data and conduct a preliminary exploration to understand its structure, data types, and the presence of missing values.\n",
    "**Initial Observations:**\n",
    "*   The dataset contains 59,091 rows and 17 columns.\n",
    "*   It includes numerical (`latitude`), boolean (`acceptsassignement`), and many `object` (text) type columns.\n",
    "*   Columns such as `practiceaddress2`, `providertypelist`, and `supplieslist` have a significant number of missing values that will need to be handled."
   ]
  },
  {
   "cell_type": "code",
   "execution_count": 100,
   "id": "f35d9f36-3446-4e05-bed8-504704367c94",
   "metadata": {
    "scrolled": true
   },
   "outputs": [
    {
     "name": "stdout",
     "output_type": "stream",
     "text": [
      "--- General information about DataFrame ---\n",
      "<class 'pandas.core.frame.DataFrame'>\n",
      "RangeIndex: 59091 entries, 0 to 59090\n",
      "Data columns (total 17 columns):\n",
      " #   Column                  Non-Null Count  Dtype  \n",
      "---  ------                  --------------  -----  \n",
      " 0   provider_id             59091 non-null  int64  \n",
      " 1   acceptsassignement      59091 non-null  bool   \n",
      " 2   participationbegindate  59091 non-null  object \n",
      " 3   businessname            59091 non-null  object \n",
      " 4   practicename            59091 non-null  object \n",
      " 5   practiceaddress1        59091 non-null  object \n",
      " 6   practiceaddress2        13128 non-null  object \n",
      " 7   practicecity            59091 non-null  object \n",
      " 8   practicestate           59091 non-null  object \n",
      " 9   practicezip9code        59091 non-null  int64  \n",
      " 10  telephonenumber         59091 non-null  int64  \n",
      " 11  specialitieslist        58330 non-null  object \n",
      " 12  providertypelist        6937 non-null   object \n",
      " 13  supplieslist            59059 non-null  object \n",
      " 14  latitude                59091 non-null  float64\n",
      " 15  longitude               59091 non-null  float64\n",
      " 16  is_contracted_for_cba   59091 non-null  bool   \n",
      "dtypes: bool(2), float64(2), int64(3), object(10)\n",
      "memory usage: 6.9+ MB\n",
      "\n",
      "--- First 5 rows of DataFrame ---\n"
     ]
    },
    {
     "data": {
      "text/html": [
       "<div>\n",
       "<style scoped>\n",
       "    .dataframe tbody tr th:only-of-type {\n",
       "        vertical-align: middle;\n",
       "    }\n",
       "\n",
       "    .dataframe tbody tr th {\n",
       "        vertical-align: top;\n",
       "    }\n",
       "\n",
       "    .dataframe thead th {\n",
       "        text-align: right;\n",
       "    }\n",
       "</style>\n",
       "<table border=\"1\" class=\"dataframe\">\n",
       "  <thead>\n",
       "    <tr style=\"text-align: right;\">\n",
       "      <th></th>\n",
       "      <th>provider_id</th>\n",
       "      <th>acceptsassignement</th>\n",
       "      <th>participationbegindate</th>\n",
       "      <th>businessname</th>\n",
       "      <th>practicename</th>\n",
       "      <th>practiceaddress1</th>\n",
       "      <th>practiceaddress2</th>\n",
       "      <th>practicecity</th>\n",
       "      <th>practicestate</th>\n",
       "      <th>practicezip9code</th>\n",
       "      <th>telephonenumber</th>\n",
       "      <th>specialitieslist</th>\n",
       "      <th>providertypelist</th>\n",
       "      <th>supplieslist</th>\n",
       "      <th>latitude</th>\n",
       "      <th>longitude</th>\n",
       "      <th>is_contracted_for_cba</th>\n",
       "    </tr>\n",
       "  </thead>\n",
       "  <tbody>\n",
       "    <tr>\n",
       "      <th>0</th>\n",
       "      <td>20335931</td>\n",
       "      <td>False</td>\n",
       "      <td>2025-03-12</td>\n",
       "      <td>CVS PHARMACY INC</td>\n",
       "      <td>CVS PHARMACY #17769</td>\n",
       "      <td>1708 DELL RANGE BLVD</td>\n",
       "      <td>NaN</td>\n",
       "      <td>CHEYENNE</td>\n",
       "      <td>WY</td>\n",
       "      <td>820094945</td>\n",
       "      <td>3078293118</td>\n",
       "      <td>Pharmacy</td>\n",
       "      <td>NaN</td>\n",
       "      <td>Immunosuppressive Drugs|Infusion Drugs|Nebuliz...</td>\n",
       "      <td>41.16037</td>\n",
       "      <td>-104.79940</td>\n",
       "      <td>False</td>\n",
       "    </tr>\n",
       "    <tr>\n",
       "      <th>1</th>\n",
       "      <td>20314913</td>\n",
       "      <td>False</td>\n",
       "      <td>2025-03-12</td>\n",
       "      <td>CVS PHARMACY INC</td>\n",
       "      <td>CVS PHARMACY #16322</td>\n",
       "      <td>7608 NE ZAC LENTZ PKWY</td>\n",
       "      <td>NaN</td>\n",
       "      <td>VICTORIA</td>\n",
       "      <td>TX</td>\n",
       "      <td>779041390</td>\n",
       "      <td>3615796716</td>\n",
       "      <td>Pharmacy</td>\n",
       "      <td>NaN</td>\n",
       "      <td>Immunosuppressive Drugs|Infusion Drugs|Nebuliz...</td>\n",
       "      <td>28.86565</td>\n",
       "      <td>-96.99893</td>\n",
       "      <td>False</td>\n",
       "    </tr>\n",
       "    <tr>\n",
       "      <th>2</th>\n",
       "      <td>20314925</td>\n",
       "      <td>False</td>\n",
       "      <td>2025-03-12</td>\n",
       "      <td>CVS PHARMACY INC</td>\n",
       "      <td>CVS PHARMACY # 17561</td>\n",
       "      <td>259 INTERSTATE 45 S</td>\n",
       "      <td>NaN</td>\n",
       "      <td>HUNTSVILLE</td>\n",
       "      <td>TX</td>\n",
       "      <td>773404903</td>\n",
       "      <td>9366493074</td>\n",
       "      <td>Pharmacy</td>\n",
       "      <td>NaN</td>\n",
       "      <td>Immunosuppressive Drugs|Infusion Drugs|Nebuliz...</td>\n",
       "      <td>30.70962</td>\n",
       "      <td>-95.56535</td>\n",
       "      <td>False</td>\n",
       "    </tr>\n",
       "    <tr>\n",
       "      <th>3</th>\n",
       "      <td>20314325</td>\n",
       "      <td>False</td>\n",
       "      <td>2025-03-12</td>\n",
       "      <td>CVS PHARMACY INC</td>\n",
       "      <td>CVS PHARMACY #17095</td>\n",
       "      <td>8223 STATE HIGHWAY 151</td>\n",
       "      <td>NaN</td>\n",
       "      <td>SAN ANTONIO</td>\n",
       "      <td>TX</td>\n",
       "      <td>782452104</td>\n",
       "      <td>2102470017</td>\n",
       "      <td>Pharmacy</td>\n",
       "      <td>NaN</td>\n",
       "      <td>Immunosuppressive Drugs|Infusion Drugs|Nebuliz...</td>\n",
       "      <td>29.43615</td>\n",
       "      <td>-98.65015</td>\n",
       "      <td>False</td>\n",
       "    </tr>\n",
       "    <tr>\n",
       "      <th>4</th>\n",
       "      <td>20314379</td>\n",
       "      <td>False</td>\n",
       "      <td>2025-03-12</td>\n",
       "      <td>CVS PHARMACY INC</td>\n",
       "      <td>CVS PHARMACY #16908</td>\n",
       "      <td>11311 BANDERA RD</td>\n",
       "      <td>NaN</td>\n",
       "      <td>SAN ANTONIO</td>\n",
       "      <td>TX</td>\n",
       "      <td>782506812</td>\n",
       "      <td>2106822533</td>\n",
       "      <td>Pharmacy</td>\n",
       "      <td>NaN</td>\n",
       "      <td>Immunosuppressive Drugs|Infusion Drugs|Nebuliz...</td>\n",
       "      <td>29.54832</td>\n",
       "      <td>-98.66206</td>\n",
       "      <td>False</td>\n",
       "    </tr>\n",
       "  </tbody>\n",
       "</table>\n",
       "</div>"
      ],
      "text/plain": [
       "   provider_id  acceptsassignement participationbegindate      businessname  \\\n",
       "0     20335931               False             2025-03-12  CVS PHARMACY INC   \n",
       "1     20314913               False             2025-03-12  CVS PHARMACY INC   \n",
       "2     20314925               False             2025-03-12  CVS PHARMACY INC   \n",
       "3     20314325               False             2025-03-12  CVS PHARMACY INC   \n",
       "4     20314379               False             2025-03-12  CVS PHARMACY INC   \n",
       "\n",
       "           practicename        practiceaddress1 practiceaddress2 practicecity  \\\n",
       "0   CVS PHARMACY #17769    1708 DELL RANGE BLVD              NaN     CHEYENNE   \n",
       "1   CVS PHARMACY #16322  7608 NE ZAC LENTZ PKWY              NaN     VICTORIA   \n",
       "2  CVS PHARMACY # 17561     259 INTERSTATE 45 S              NaN   HUNTSVILLE   \n",
       "3   CVS PHARMACY #17095  8223 STATE HIGHWAY 151              NaN  SAN ANTONIO   \n",
       "4   CVS PHARMACY #16908        11311 BANDERA RD              NaN  SAN ANTONIO   \n",
       "\n",
       "  practicestate  practicezip9code  telephonenumber specialitieslist  \\\n",
       "0            WY         820094945       3078293118         Pharmacy   \n",
       "1            TX         779041390       3615796716         Pharmacy   \n",
       "2            TX         773404903       9366493074         Pharmacy   \n",
       "3            TX         782452104       2102470017         Pharmacy   \n",
       "4            TX         782506812       2106822533         Pharmacy   \n",
       "\n",
       "  providertypelist                                       supplieslist  \\\n",
       "0              NaN  Immunosuppressive Drugs|Infusion Drugs|Nebuliz...   \n",
       "1              NaN  Immunosuppressive Drugs|Infusion Drugs|Nebuliz...   \n",
       "2              NaN  Immunosuppressive Drugs|Infusion Drugs|Nebuliz...   \n",
       "3              NaN  Immunosuppressive Drugs|Infusion Drugs|Nebuliz...   \n",
       "4              NaN  Immunosuppressive Drugs|Infusion Drugs|Nebuliz...   \n",
       "\n",
       "   latitude  longitude  is_contracted_for_cba  \n",
       "0  41.16037 -104.79940                  False  \n",
       "1  28.86565  -96.99893                  False  \n",
       "2  30.70962  -95.56535                  False  \n",
       "3  29.43615  -98.65015                  False  \n",
       "4  29.54832  -98.66206                  False  "
      ]
     },
     "metadata": {},
     "output_type": "display_data"
    }
   ],
   "source": [
    "# Import the necessary libraries\n",
    "import pandas as pd\n",
    "import seaborn as sns\n",
    "import matplotlib.pyplot as plt\n",
    "from sklearn.model_selection import train_test_split\n",
    "from sklearn.ensemble import RandomForestClassifier\n",
    "from sklearn.metrics import accuracy_score, classification_report, confusion_matrix\n",
    "# Load the dataset\n",
    "df = pd.read_csv('Medical-Equipment-Suppliers.csv')\n",
    "# Explore the dataset\n",
    "print(\"--- General information about DataFrame ---\")\n",
    "df.info()\n",
    "print(\"\\n--- First 5 rows of DataFrame ---\")\n",
    "display(df.head())"
   ]
  },
  {
   "cell_type": "code",
   "execution_count": 101,
   "id": "4ad41602",
   "metadata": {},
   "outputs": [
    {
     "name": "stdout",
     "output_type": "stream",
     "text": [
      "\n",
      "--- Missing values analysis ---\n",
      "                  Missing values  Percentage (%)\n",
      "providertypelist           52154       88.260480\n",
      "practiceaddress2           45963       77.783419\n",
      "specialitieslist             761        1.287844\n",
      "supplieslist                  32        0.054154\n"
     ]
    },
    {
     "data": {
      "image/png": "[encoded data removed]",
      "text/plain": [
       "<Figure size 1000x600 with 1 Axes>"
      ]
     },
     "metadata": {},
     "output_type": "display_data"
    }
   ],
   "source": [
    "# calculate missing values percentage per column\n",
    "\n",
    "missing_values = df.isnull().sum()\n",
    "missing_percentage = (missing_values / len(df)) * 100\n",
    "# create a DataFrame to summarize missing values\n",
    "missing_info = pd.DataFrame({'Missing values': missing_values, 'Percentage (%)': missing_percentage})\n",
    "missing_info = missing_info[missing_info['Missing values'] > 0].sort_values(by='Percentage (%)', ascending=False)\n",
    "print(\"\\n--- Missing values analysis ---\")\n",
    "print(missing_info)\n",
    "# Grafical visualization of missing values\n",
    "if not missing_info.empty:\n",
    "    plt.figure(figsize=(10, 6))\n",
    "    \n",
    "    sns.barplot(\n",
    "        x=missing_info.index, \n",
    "        y=missing_info['Percentage (%)'], \n",
    "        hue=missing_info.index,  \n",
    "        palette='Reds_r', \n",
    "        legend=False             \n",
    "    )\n",
    "    # ---------------------\n",
    "    plt.title('Percentage of Missing Values per Column')\n",
    "    plt.ylabel('Percentage (%)')\n",
    "    plt.xlabel('Column Name') \n",
    "    plt.xticks(rotation=45, ha=\"right\")\n",
    "    plt.tight_layout() \n",
    "    plt.show()"
   ]
  },
  {
   "cell_type": "markdown",
   "id": "98d08dc3",
   "metadata": {},
   "source": [
    "**Observations on Missing Values:**\n",
    "The analysis reveals important findings:\n",
    "*   The `practiceaddress2` column has almost 100% missing values. It is clearly unusable.\n",
    "*   `providertypelist` and `supplieslist` have a significant percentage of missing values (between 80% and 90%).\n",
    "*   Other columns, such as `specialitieslist`, have a smaller but still relevant amount of missing data.\n",
    "This assessment is the basis for the decisions we will make in the next section.\n"
   ]
  },
  {
   "cell_type": "markdown",
   "id": "5a416266",
   "metadata": {},
   "source": [
    "### **Section 3: Prepare Data**\n",
    "#### **Clean**\n",
    "In this section, we apply the cleaning decisions based on our assessment. We encapsulate the logic into a function to ensure the process is documented, consistent, and reusable.\n",
    "#### **Justification for Handling Missing Data and Categorical Variables**\n",
    "Before writing the code, it is crucial to justify our choices:\n",
    "1.  **Handling Columns with Many Missing Values (`practiceaddress2`, `providertypelist`, `supplieslist`):**\n",
    "    *   **Chosen Approach:** **Column Deletion.**\n",
    "    *   **Justification:** These columns have an extremely high percentage of missing data (from 80% to 99%). Imputing (filling) these values would be problematic for several reasons:\n",
    "        *   **Data Distortion:** Imputing 80% of the data with a single value (like the mode) or with more complex techniques would introduce a huge amount of artificial information, severely distorting the natural patterns present in the remaining 20% of the data. The model would learn more from the \"invented\" data than from the real data.\n",
    "        *   **Lack of Reliable Signal:** With so little real data, it is impossible to determine a reliable imputation strategy. The risk of introducing a significant bias is too high.\n",
    "    *   **Conclusion:** Given the scarcity of useful information, deleting these columns is the safest and most honest approach to preserve the integrity of the analysis and not base our model on largely artificial data. As explained in [this post on imputation](https://www.udacity.com/course/viewer#!/c-nd025/l-6195514392/m-6228389025), when the percentage of missing data is this high, deletion is often the most prudent choice.\n",
    "2.  **Handling Categorical Variables (`practicestate`, `specialitieslist`, etc.):**\n",
    "    *   **Chosen Approach:** **One-Hot Encoding.**\n",
    "    *   **Justification:** Machine learning models like the `RandomForestClassifier` require numerical inputs. Categorical (text) variables must be converted. One-Hot Encoding is the appropriate choice in this case because:\n",
    "        *   **No Ordinal Relationship:** Our categories (like states or medical specialties) have no inherent order (e.g., \"Texas\" is not \"greater\" or \"lesser\" than \"California\"). One-Hot Encoding creates a new binary (0/1) column for each category, treating them all as separate, independent entities, which respects the non-ordinal nature of the data.\n",
    "        *   **Model Compatibility:** Tree-based models, such as Random Forest, work very well with this type of sparse binary feature, as they can identify patterns based on the presence or absence of a given category.\n",
    "These decisions aim to create a clean and meaningful dataset, maximizing the real information and representing it in an optimal format for our predictive model.\n"
   ]
  },
  {
   "cell_type": "code",
   "execution_count": 102,
   "id": "e5d03ec3-f0fd-4fac-893e-974f5e071928",
   "metadata": {},
   "outputs": [
    {
     "name": "stdout",
     "output_type": "stream",
     "text": [
      "\n",
      "--- Cleaning and preparing the data ---\n",
      "Starting data cleaning and preparation...\n",
      "Data preparation finished for 58330 row.\n"
     ]
    }
   ],
   "source": [
    "def clean_and_prepare_data(df: pd.DataFrame) -> pd.DataFrame:\n",
    "    \"\"\"Cleans and prepares the DataFrame for modeling according to a defined logic.\n",
    "    This function implements the cleaning decisions justified above:\n",
    "    1. Removes columns with too many missing values or irrelevant data.\n",
    "    2. Handles remaining missing values, if necessary.\n",
    "    3. Applies one-hot encoding to categorical columns for modeling.\n",
    "    Args:\n",
    "        df (pd.DataFrame): The original DataFrame.\n",
    "    Returns:\n",
    "        pd.DataFrame: A clean and ready-to-model DataFrame.\n",
    "    \"\"\"\n",
    "    print(\"Starting data cleaning and preparation...\")\n",
    "    \n",
    "    # 1. Drop columns with too many missing values or irrelevant data\n",
    "    # The columns 'practiceaddress2', 'providertypelist', and 'supplieslist' have too many missing values (>80%).\n",
    "    # 'practiceaddress2' is almost entirely missing, so it is clearly unusable. \n",
    "    columns_to_drop = [\n",
    "        'provider_id', 'practicename', 'businessname', 'practiceaddress1',\n",
    "        'practiceaddress2', # Deleted due to almost 99% missing values\n",
    "        'telephonenumber', 'participationbegindate', 'practicecity',\n",
    "        'providertypelist', # Deleted due >80% missing values\n",
    "        'supplieslist',     # Deleted due >80% missing values\n",
    "        'practicezip9code'\n",
    "    ]\n",
    "    df_cleaned = df.drop(columns=columns_to_drop, errors='ignore')\n",
    "    # 2. Handling remaining missing values\n",
    "    # In this case, the 'specialitieslist' column has a few NaNs.\n",
    "    # The simplest option is to drop these few rows, as their\n",
    "    # impact on the overall dataset (59k rows) is negligible.\n",
    "    df_cleaned.dropna(inplace=True)\n",
    "    # 3. Application of One-Hot Encoding \n",
    "    categorical_cols = df_cleaned.select_dtypes(include=['object']).columns\n",
    "    df_prepared = pd.get_dummies(df_cleaned, columns=categorical_cols)\n",
    "    \n",
    "    print(f\"Data preparation finished for {df_prepared.shape[0]} row.\")\n",
    "    return df_prepared\n",
    "# Application of the cleaning function\n",
    "print(\"\\n--- Cleaning and preparing the data ---\")\n",
    "df_prepared = clean_and_prepare_data(df.copy())"
   ]
  },
  {
   "cell_type": "markdown",
   "id": "714767e1",
   "metadata": {},
   "source": [
    "### **Section 4: Data Modeling**\n",
    "#### **Fit and Validate Model**\n",
    "With the data prepared, we build our predictive model.\n",
    "1.  **Data Separation:** We split the dataset into *features* (X, the \"clues\") and the *target* (y, what we want to predict).\n",
    "2.  **Training:** We train a `RandomForestClassifier` model.\n",
    "3.  **Validation:** The results will be shown in the next evaluation section.\n"
   ]
  },
  {
   "cell_type": "code",
   "execution_count": 103,
   "id": "a43177b0-1361-4766-8a01-1bc30082a1c3",
   "metadata": {},
   "outputs": [
    {
     "name": "stdout",
     "output_type": "stream",
     "text": [
      "\n",
      "--- Splitting the dataset into features and target variable ---\n",
      "\n",
      "--- Splitting the dataset into training and testing sets ---\n",
      "\n",
      "--- Creating and training the RandomForest model ---\n",
      "Training complete.\n"
     ]
    }
   ],
   "source": [
    "# Split the dataset into features and target variable\n",
    "print(\"\\n--- Splitting the dataset into features and target variable ---\")\n",
    "y = df_prepared['acceptsassignement']\n",
    "X = df_prepared.drop('acceptsassignement', axis=1)\n",
    "# split the dataset into training and testing sets\n",
    "print(\"\\n--- Splitting the dataset into training and testing sets ---\")\n",
    "X_train, X_test, y_train, y_test = train_test_split(X, y, test_size=0.2, random_state=42)\n",
    "#create and train the RandomForest model\n",
    "print(\"\\n--- Creating and training the RandomForest model ---\")\n",
    "model = RandomForestClassifier(random_state=42)\n",
    "model.fit(X_train, y_train)\n",
    "print(\"Training complete.\")"
   ]
  },
  {
   "cell_type": "markdown",
   "id": "ca003dc9",
   "metadata": {},
   "source": [
    "### **Section 5: Evaluate the Results**\n",
    "In this final section, we use our analysis and the model to explicitly answer the questions defined in Section 1.\n"
   ]
  },
  {
   "cell_type": "markdown",
   "id": "3f6fcf14-1fcf-4fb3-8ff3-5710484f0771",
   "metadata": {},
   "source": [
    "#### **Answer to Question 1: In which states are most suppliers concentrated?**\n",
    "**Analysis:** To answer this, we count the number of suppliers for each state in the original dataset.\n",
    "**Visualization:** A horizontal bar chart is ideal for showing the ranking of the states.\n",
    "**Explanation of the Visualization:** The chart clearly shows that the states of **California, Texas, and Florida** have a significantly higher number of suppliers than the others. This confirms a strong geographical concentration, likely linked to population density.\n"
   ]
  },
  {
   "cell_type": "code",
   "execution_count": 104,
   "id": "54f655aa",
   "metadata": {},
   "outputs": [
    {
     "name": "stdout",
     "output_type": "stream",
     "text": [
      "\n",
      "--- Visualizing the top 30 states with the most suppliers ---\n"
     ]
    },
    {
     "name": "stderr",
     "output_type": "stream",
     "text": [
      "C:\\Users\\giovanni.c\\AppData\\Local\\Temp\\ipykernel_24984\\160238632.py:4: FutureWarning: \n",
      "\n",
      "Passing `palette` without assigning `hue` is deprecated and will be removed in v0.14.0. Assign the `y` variable to `hue` and set `legend=False` for the same effect.\n",
      "\n",
      "  sns.countplot(y='practicestate', data=df, order=df['practicestate'].value_counts().iloc[:30].index, palette='viridis')\n"
     ]
    },
    {
     "data": {
      "image/png": "[encoded data removed]",
      "text/plain": [
       "<Figure size 1200x800 with 1 Axes>"
      ]
     },
     "metadata": {},
     "output_type": "display_data"
    }
   ],
   "source": [
    "# Visualization of Question 1:Visualization for the first 30 states with the most suppliers\n",
    "print(\"\\n--- Visualizing the top 30 states with the most suppliers ---\")\n",
    "plt.figure(figsize=(12, 8))\n",
    "sns.countplot(y='practicestate', data=df, order=df['practicestate'].value_counts().iloc[:30].index, palette='viridis')\n",
    "plt.title('Top 30 State for Medical Equipment Suppliers')\n",
    "plt.xlabel('Number of Suppliers')\n",
    "plt.ylabel('State')\n",
    "plt.show()"
   ]
  },
  {
   "cell_type": "markdown",
   "id": "75c22021-f2b5-4924-9b25-824e854e6410",
   "metadata": {},
   "source": [
    "#### **Answer to Question 2: What is the proportion of suppliers who accept assignment?**\n",
    "**Analysis:** We calculate the percentages for the boolean column `acceptsassignement`.\n",
    "**Visualization:** A pie chart immediately illustrates the proportion between the two categories.\n",
    "**Explanation of the Visualization:** The result is almost a 50/50 split: **48.4%** of suppliers accept assignment, while **51.6%** do not. This is a fundamental insight that indicates a systemic challenge in patient access to care."
   ]
  },
  {
   "cell_type": "code",
   "execution_count": 105,
   "id": "5016bd8e",
   "metadata": {},
   "outputs": [
    {
     "data": {
      "image/png": "[encoded data removed]",
      "text/plain": [
       "<Figure size 700x700 with 1 Axes>"
      ]
     },
     "metadata": {},
     "output_type": "display_data"
    }
   ],
   "source": [
    "# Visualizzation of Question 2: Proportion of Suppliers that Accept Assignments\n",
    "plt.figure(figsize=(7, 7))\n",
    "df['acceptsassignement'].value_counts().plot.pie(\n",
    "    autopct='%1.1f%%',\n",
    "    labels=['Do not Accept', 'Accept'],\n",
    "    colors=['#ff9999','#66b3ff'],\n",
    "    explode=(0.02, 0)\n",
    ")\n",
    "plt.title(\"Proportion of Suppliers that Accept Assignments\")\n",
    "plt.ylabel('')\n",
    "plt.show()"
   ]
  },
  {
   "cell_type": "markdown",
   "id": "47cb3dc8",
   "metadata": {},
   "source": [
    "#### **Answer to Question 3: Is it possible to build a model to predict whether a supplier will accept assignment?**\n",
    "**Analysis:** To answer this question, we evaluate the performance of the model we trained in Section 4. We use the test set, which contains data the model has never seen before.\n",
    "**Model Results:**\n",
    "*   **Accuracy:** The model correctly predicts the outcome approximately **74%** of the time.\n",
    "*   **Precision and Recall:** The classification report shows that the model is reasonably balanced and does not excessively favor one class over the other.\n",
    "**Explanation of the Results:** Yes, it is possible to build a predictive model with reasonable effectiveness. Although there is room for improvement, an accuracy of 74% demonstrates that there are patterns in the data that the model was able to learn. This model can already serve as a useful tool for preliminary estimates."
   ]
  },
  {
   "cell_type": "markdown",
   "id": "6ffeee33",
   "metadata": {},
   "source": [
    "### 6. Visualize and Apply Results\n",
    "Finally, we apply our model to a practical use case to demonstrate its value.\n",
    "#### Hypothetical Scenario\n",
    "What would happen if a new pharmacy opened in Pharr, Texas? We can use our model to predict it.\n",
    "**Conclusion:**\n",
    "The model predicts that the new pharmacy will most likely **not accept assignment**. This type of prediction, based on thousands of real data points, can provide valuable strategic insight for new businesses in the healthcare sector.\n",
    "Fourth Snippet:"
   ]
  },
  {
   "cell_type": "code",
   "execution_count": 106,
   "id": "795b7be5",
   "metadata": {},
   "outputs": [
    {
     "name": "stdout",
     "output_type": "stream",
     "text": [
      "\n",
      "--- Evaluating the model's performance ---\n",
      "Accuracy: 61.80%\n",
      "\n",
      "              precision    recall  f1-score   support\n",
      "\n",
      "       False       0.61      0.61      0.61      5723\n",
      "        True       0.62      0.63      0.63      5943\n",
      "\n",
      "    accuracy                           0.62     11666\n",
      "   macro avg       0.62      0.62      0.62     11666\n",
      "weighted avg       0.62      0.62      0.62     11666\n",
      "\n"
     ]
    }
   ],
   "source": [
    "# Evaluation of the model's performance\n",
    "print(\"\\n--- Evaluating the model's performance ---\")\n",
    "y_pred = model.predict(X_test)\n",
    "print(f\"Accuracy: {accuracy_score(y_test, y_pred):.2%}\\n\")\n",
    "print(classification_report(y_test, y_pred))"
   ]
  },
  {
   "cell_type": "markdown",
   "id": "00d87c87",
   "metadata": {},
   "source": [
    "#### **Practical Application: Prediction for a Hypothetical Scenario**\n",
    "After validating the model, the final step is to demonstrate its practical value. We apply it to a realistic use case: what would happen if a new pharmacy opened today? We can use our model to make an informed prediction.\n",
    "**Scenario:**\n",
    "*   **Name:** \"PharmaHealth\" (hypothetical)\n",
    "*   **Type:** Pharmacy\n",
    "*   **Location:** Pharr, Texas (TX)\n",
    "*   **Coordinates:** Latitude `26.19`, Longitude `-98.18`\n",
    "We use a function to prepare this data in the correct format and feed it into our trained model.\n",
    "**Final Conclusion:**\n",
    "The model predicts that the new pharmacy will most likely **not accept assignment**. This type of insight, generated in seconds, could be invaluable for market research, strategic planning, or for the pharmacy itself as it decides on its management policies. It demonstrates how a well-structured data analysis can translate into practical decision-making tools.\n"
   ]
  },
  {
   "cell_type": "code",
   "execution_count": 107,
   "id": "a4a592f5",
   "metadata": {},
   "outputs": [
    {
     "name": "stdout",
     "output_type": "stream",
     "text": [
      "\n",
      "--- Predicting a new scenario ---\n",
      "\n",
      "--- Prediction of hypothetical scenario ---\n",
      "Forecast: The new pharmacy in Pharr, TX, will most likely 'Accept the assignation'.\n",
      "Estimated probabilities (False, True): [0.45 0.55]\n"
     ]
    }
   ],
   "source": [
    "def predict_new_scenario(model, X_template: pd.DataFrame):\n",
    "    \"\"\"Runs a prediction on a hypothetical scenario and prints the result.\n",
    "    This function creates a single data point corresponding to the scenario,\n",
    "    prepares it in the format required by the model (same columns, dtypes,\n",
    "    and order), and finally runs and interprets the prediction.\n",
    "    Args:\n",
    "        model: The trained machine learning model.\n",
    "        X_template (pd.DataFrame): A DataFrame of features (e.g., X_train) to use\n",
    "                                   as a template for the structure.\n",
    "    \"\"\"\n",
    "    print(\"\\n--- Prediction of hypothetical scenario ---\")\n",
    "    \n",
    "    # 1. Create a new DataFrame with the same structure as X_template\n",
    "    # This ensures that the new data point has the same columns and dtypes.\n",
    "    nuovo_fornitore_df = pd.DataFrame(columns=X_template.columns).astype(X_template.dtypes)\n",
    "    nuovo_fornitore_df.loc[0] = [pd.NA] * len(X_template.columns)\n",
    "\n",
    "    # 2. Populate the new DataFrame with the hypothetical scenario data\n",
    "    # In this case, we are simulating a new pharmacy in Pharr, TX.\n",
    "    nuovo_fornitore_df.loc[0, 'latitude'] = 26.19\n",
    "    nuovo_fornitore_df.loc[0, 'longitude'] = -98.18\n",
    "    nuovo_fornitore_df.loc[0, 'is_contracted_for_cba'] = False\n",
    "\n",
    "    # Ensure that the new DataFrame has the same columns as the model expects\n",
    "    if 'practicestate_TX' in nuovo_fornitore_df.columns:\n",
    "        nuovo_fornitore_df.loc[0, 'practicestate_TX'] = 1\n",
    "    if 'specialitieslist_Pharmacy' in nuovo_fornitore_df.columns:\n",
    "        nuovo_fornitore_df.loc[0, 'specialitieslist_Pharmacy'] = 1\n",
    "        \n",
    "    # 3. Fill missing values and ensure correct dtypes\n",
    "    # This step is crucial to ensure that the model can process the new data point.\n",
    "    nuovo_fornitore_df = nuovo_fornitore_df.infer_objects(copy=False)\n",
    "    nuovo_fornitore_df.fillna(0, inplace=True)\n",
    "    \n",
    "    # 4. Execute the prediction\n",
    "    # The model expects the same structure as the training data.\n",
    "    previsione = model.predict(nuovo_fornitore_df)\n",
    "    probabilita = model.predict_proba(nuovo_fornitore_df)\n",
    "    \n",
    "    risultato = \"Accept the assignation\" if previsione[0] else \"Does NOT accept the assignation\"\n",
    "    print(f\"Forecast: The new pharmacy in Pharr, TX, will most likely '{risultato}'.\")\n",
    "    print(f\"Estimated probabilities (False, True): {probabilita[0]}\")\n",
    "\n",
    "\n",
    "# Final call to the function to demonstrate the application of the model\n",
    "print(\"\\n--- Predicting a new scenario ---\")\n",
    "predict_new_scenario(model, X)"
   ]
  }
 ],
 "metadata": {
  "kernelspec": {
   "display_name": ".venv",
   "language": "python",
   "name": "python3"
  },
  "language_info": {
   "codemirror_mode": {
    "name": "ipython",
    "version": 3
   },
   "file_extension": ".py",
   "mimetype": "text/x-python",
   "name": "python",
   "nbconvert_exporter": "python",
   "pygments_lexer": "ipython3",
   "version": "3.10.4"
  }
 },
 "nbformat": 4,
 "nbformat_minor": 5
}
