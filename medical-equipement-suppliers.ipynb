{
 "cells": [
  {
   "cell_type": "markdown",
   "id": "43e8b94c-d1d7-4e96-9ffc-77a324ec3f68",
   "metadata": {},
   "source": [
    "# **Progetto: Analisi e Previsione sui Fornitori di Servizi Sanitari**\n",
    "**Autore:** Giovanni Capanna\n",
    "---\n",
    "### **Sezione 1: Business Understanding (Comprensione del Contesto)**\n",
    "#### **Breve Descrizione**\n",
    "Il sistema sanitario e l'accesso alle cure sono argomenti complessi. Un fattore chiave per i pazienti è sapere se un fornitore di servizi sanitari \"accetta l'assegnazione\" (*accepts assignment*), il che impatta direttamente sui costi e sull'accessibilità. Questo progetto mira ad analizzare un [dataset pubblico dei Centers for Medicare & Medicaid Services (CMS)](https://data.cms.gov/provider-data/) per far luce su questo ecosistema.\n",
    "#### **Domande del Progetto**\n",
    "Attraverso l'analisi di questi dati, cercheremo di rispondere a tre domande principali:\n",
    "1.  **Domanda 1:** In quali stati si concentra la maggior parte dei fornitori di servizi sanitari?\n",
    "2.  **Domanda 2:** Qual è la proporzione di fornitori che accettano l'assegnazione rispetto a quelli che non la accettano?\n",
    "3.  **Domanda 3:** È possibile costruire un modello di machine learning per prevedere se un nuovo fornitore accetterà l'assegnazione sulla base delle sue caratteristiche?"
   ]
  },
  {
   "cell_type": "markdown",
   "id": "afd4b46a",
   "metadata": {},
   "source": [
    "### **Sezione 2: Data Understanding (Comprensione dei Dati)**\n",
    "#### **Access and Explore (Accesso ed Esplorazione)**\n",
    "In questa fase, carichiamo i dati e conduciamo un'esplorazione preliminare per comprendere la loro struttura, i tipi di dato e la presenza di valori mancanti.\n",
    "**Osservazioni Iniziali:**\n",
    "*   Il dataset contiene 59,091 righe e 17 colonne.\n",
    "*   Sono presenti colonne numeriche (`latitude`), booleane (`acceptsassignement`), e molte di tipo `object` (testo).\n",
    "*   Colonne come `practiceaddress2`, `providertypelist` e `supplieslist` hanno un numero significativo di valori mancanti, che andranno gestiti."
   ]
  },
  {
   "cell_type": "code",
   "execution_count": 61,
   "id": "f35d9f36-3446-4e05-bed8-504704367c94",
   "metadata": {
    "scrolled": true
   },
   "outputs": [
    {
     "name": "stdout",
     "output_type": "stream",
     "text": [
      "--- Informazioni Generali sul DataFrame ---\n",
      "<class 'pandas.core.frame.DataFrame'>\n",
      "RangeIndex: 59091 entries, 0 to 59090\n",
      "Data columns (total 17 columns):\n",
      " #   Column                  Non-Null Count  Dtype  \n",
      "---  ------                  --------------  -----  \n",
      " 0   provider_id             59091 non-null  int64  \n",
      " 1   acceptsassignement      59091 non-null  bool   \n",
      " 2   participationbegindate  59091 non-null  object \n",
      " 3   businessname            59091 non-null  object \n",
      " 4   practicename            59091 non-null  object \n",
      " 5   practiceaddress1        59091 non-null  object \n",
      " 6   practiceaddress2        13128 non-null  object \n",
      " 7   practicecity            59091 non-null  object \n",
      " 8   practicestate           59091 non-null  object \n",
      " 9   practicezip9code        59091 non-null  int64  \n",
      " 10  telephonenumber         59091 non-null  int64  \n",
      " 11  specialitieslist        58330 non-null  object \n",
      " 12  providertypelist        6937 non-null   object \n",
      " 13  supplieslist            59059 non-null  object \n",
      " 14  latitude                59091 non-null  float64\n",
      " 15  longitude               59091 non-null  float64\n",
      " 16  is_contracted_for_cba   59091 non-null  bool   \n",
      "dtypes: bool(2), float64(2), int64(3), object(10)\n",
      "memory usage: 6.9+ MB\n",
      "\n",
      "--- Prime 5 Righe del DataFrame ---\n"
     ]
    },
    {
     "data": {
      "text/html": [
       "<div>\n",
       "<style scoped>\n",
       "    .dataframe tbody tr th:only-of-type {\n",
       "        vertical-align: middle;\n",
       "    }\n",
       "\n",
       "    .dataframe tbody tr th {\n",
       "        vertical-align: top;\n",
       "    }\n",
       "\n",
       "    .dataframe thead th {\n",
       "        text-align: right;\n",
       "    }\n",
       "</style>\n",
       "<table border=\"1\" class=\"dataframe\">\n",
       "  <thead>\n",
       "    <tr style=\"text-align: right;\">\n",
       "      <th></th>\n",
       "      <th>provider_id</th>\n",
       "      <th>acceptsassignement</th>\n",
       "      <th>participationbegindate</th>\n",
       "      <th>businessname</th>\n",
       "      <th>practicename</th>\n",
       "      <th>practiceaddress1</th>\n",
       "      <th>practiceaddress2</th>\n",
       "      <th>practicecity</th>\n",
       "      <th>practicestate</th>\n",
       "      <th>practicezip9code</th>\n",
       "      <th>telephonenumber</th>\n",
       "      <th>specialitieslist</th>\n",
       "      <th>providertypelist</th>\n",
       "      <th>supplieslist</th>\n",
       "      <th>latitude</th>\n",
       "      <th>longitude</th>\n",
       "      <th>is_contracted_for_cba</th>\n",
       "    </tr>\n",
       "  </thead>\n",
       "  <tbody>\n",
       "    <tr>\n",
       "      <th>0</th>\n",
       "      <td>20335931</td>\n",
       "      <td>False</td>\n",
       "      <td>2025-03-12</td>\n",
       "      <td>CVS PHARMACY INC</td>\n",
       "      <td>CVS PHARMACY #17769</td>\n",
       "      <td>1708 DELL RANGE BLVD</td>\n",
       "      <td>NaN</td>\n",
       "      <td>CHEYENNE</td>\n",
       "      <td>WY</td>\n",
       "      <td>820094945</td>\n",
       "      <td>3078293118</td>\n",
       "      <td>Pharmacy</td>\n",
       "      <td>NaN</td>\n",
       "      <td>Immunosuppressive Drugs|Infusion Drugs|Nebuliz...</td>\n",
       "      <td>41.16037</td>\n",
       "      <td>-104.79940</td>\n",
       "      <td>False</td>\n",
       "    </tr>\n",
       "    <tr>\n",
       "      <th>1</th>\n",
       "      <td>20314913</td>\n",
       "      <td>False</td>\n",
       "      <td>2025-03-12</td>\n",
       "      <td>CVS PHARMACY INC</td>\n",
       "      <td>CVS PHARMACY #16322</td>\n",
       "      <td>7608 NE ZAC LENTZ PKWY</td>\n",
       "      <td>NaN</td>\n",
       "      <td>VICTORIA</td>\n",
       "      <td>TX</td>\n",
       "      <td>779041390</td>\n",
       "      <td>3615796716</td>\n",
       "      <td>Pharmacy</td>\n",
       "      <td>NaN</td>\n",
       "      <td>Immunosuppressive Drugs|Infusion Drugs|Nebuliz...</td>\n",
       "      <td>28.86565</td>\n",
       "      <td>-96.99893</td>\n",
       "      <td>False</td>\n",
       "    </tr>\n",
       "    <tr>\n",
       "      <th>2</th>\n",
       "      <td>20314925</td>\n",
       "      <td>False</td>\n",
       "      <td>2025-03-12</td>\n",
       "      <td>CVS PHARMACY INC</td>\n",
       "      <td>CVS PHARMACY # 17561</td>\n",
       "      <td>259 INTERSTATE 45 S</td>\n",
       "      <td>NaN</td>\n",
       "      <td>HUNTSVILLE</td>\n",
       "      <td>TX</td>\n",
       "      <td>773404903</td>\n",
       "      <td>9366493074</td>\n",
       "      <td>Pharmacy</td>\n",
       "      <td>NaN</td>\n",
       "      <td>Immunosuppressive Drugs|Infusion Drugs|Nebuliz...</td>\n",
       "      <td>30.70962</td>\n",
       "      <td>-95.56535</td>\n",
       "      <td>False</td>\n",
       "    </tr>\n",
       "    <tr>\n",
       "      <th>3</th>\n",
       "      <td>20314325</td>\n",
       "      <td>False</td>\n",
       "      <td>2025-03-12</td>\n",
       "      <td>CVS PHARMACY INC</td>\n",
       "      <td>CVS PHARMACY #17095</td>\n",
       "      <td>8223 STATE HIGHWAY 151</td>\n",
       "      <td>NaN</td>\n",
       "      <td>SAN ANTONIO</td>\n",
       "      <td>TX</td>\n",
       "      <td>782452104</td>\n",
       "      <td>2102470017</td>\n",
       "      <td>Pharmacy</td>\n",
       "      <td>NaN</td>\n",
       "      <td>Immunosuppressive Drugs|Infusion Drugs|Nebuliz...</td>\n",
       "      <td>29.43615</td>\n",
       "      <td>-98.65015</td>\n",
       "      <td>False</td>\n",
       "    </tr>\n",
       "    <tr>\n",
       "      <th>4</th>\n",
       "      <td>20314379</td>\n",
       "      <td>False</td>\n",
       "      <td>2025-03-12</td>\n",
       "      <td>CVS PHARMACY INC</td>\n",
       "      <td>CVS PHARMACY #16908</td>\n",
       "      <td>11311 BANDERA RD</td>\n",
       "      <td>NaN</td>\n",
       "      <td>SAN ANTONIO</td>\n",
       "      <td>TX</td>\n",
       "      <td>782506812</td>\n",
       "      <td>2106822533</td>\n",
       "      <td>Pharmacy</td>\n",
       "      <td>NaN</td>\n",
       "      <td>Immunosuppressive Drugs|Infusion Drugs|Nebuliz...</td>\n",
       "      <td>29.54832</td>\n",
       "      <td>-98.66206</td>\n",
       "      <td>False</td>\n",
       "    </tr>\n",
       "  </tbody>\n",
       "</table>\n",
       "</div>"
      ],
      "text/plain": [
       "   provider_id  acceptsassignement participationbegindate      businessname  \\\n",
       "0     20335931               False             2025-03-12  CVS PHARMACY INC   \n",
       "1     20314913               False             2025-03-12  CVS PHARMACY INC   \n",
       "2     20314925               False             2025-03-12  CVS PHARMACY INC   \n",
       "3     20314325               False             2025-03-12  CVS PHARMACY INC   \n",
       "4     20314379               False             2025-03-12  CVS PHARMACY INC   \n",
       "\n",
       "           practicename        practiceaddress1 practiceaddress2 practicecity  \\\n",
       "0   CVS PHARMACY #17769    1708 DELL RANGE BLVD              NaN     CHEYENNE   \n",
       "1   CVS PHARMACY #16322  7608 NE ZAC LENTZ PKWY              NaN     VICTORIA   \n",
       "2  CVS PHARMACY # 17561     259 INTERSTATE 45 S              NaN   HUNTSVILLE   \n",
       "3   CVS PHARMACY #17095  8223 STATE HIGHWAY 151              NaN  SAN ANTONIO   \n",
       "4   CVS PHARMACY #16908        11311 BANDERA RD              NaN  SAN ANTONIO   \n",
       "\n",
       "  practicestate  practicezip9code  telephonenumber specialitieslist  \\\n",
       "0            WY         820094945       3078293118         Pharmacy   \n",
       "1            TX         779041390       3615796716         Pharmacy   \n",
       "2            TX         773404903       9366493074         Pharmacy   \n",
       "3            TX         782452104       2102470017         Pharmacy   \n",
       "4            TX         782506812       2106822533         Pharmacy   \n",
       "\n",
       "  providertypelist                                       supplieslist  \\\n",
       "0              NaN  Immunosuppressive Drugs|Infusion Drugs|Nebuliz...   \n",
       "1              NaN  Immunosuppressive Drugs|Infusion Drugs|Nebuliz...   \n",
       "2              NaN  Immunosuppressive Drugs|Infusion Drugs|Nebuliz...   \n",
       "3              NaN  Immunosuppressive Drugs|Infusion Drugs|Nebuliz...   \n",
       "4              NaN  Immunosuppressive Drugs|Infusion Drugs|Nebuliz...   \n",
       "\n",
       "   latitude  longitude  is_contracted_for_cba  \n",
       "0  41.16037 -104.79940                  False  \n",
       "1  28.86565  -96.99893                  False  \n",
       "2  30.70962  -95.56535                  False  \n",
       "3  29.43615  -98.65015                  False  \n",
       "4  29.54832  -98.66206                  False  "
      ]
     },
     "metadata": {},
     "output_type": "display_data"
    }
   ],
   "source": [
    "# Import delle librerie necessarie\n",
    "import pandas as pd\n",
    "import seaborn as sns\n",
    "import matplotlib.pyplot as plt\n",
    "from sklearn.model_selection import train_test_split\n",
    "from sklearn.ensemble import RandomForestClassifier\n",
    "from sklearn.metrics import accuracy_score, classification_report, confusion_matrix\n",
    "# Caricamento del dataset\n",
    "df = pd.read_csv('Medical-Equipment-Suppliers.csv')\n",
    "# Esplorazione iniziale\n",
    "print(\"--- Informazioni Generali sul DataFrame ---\")\n",
    "df.info()\n",
    "print(\"\\n--- Prime 5 Righe del DataFrame ---\")\n",
    "display(df.head())"
   ]
  },
  {
   "cell_type": "code",
   "execution_count": 62,
   "id": "4ad41602",
   "metadata": {},
   "outputs": [
    {
     "name": "stdout",
     "output_type": "stream",
     "text": [
      "--- Analisi dei Valori Mancanti ---\n",
      "                  Valori Mancanti  Percentuale (%)\n",
      "providertypelist            52154        88.260480\n",
      "practiceaddress2            45963        77.783419\n",
      "specialitieslist              761         1.287844\n",
      "supplieslist                   32         0.054154\n"
     ]
    },
    {
     "name": "stderr",
     "output_type": "stream",
     "text": [
      "C:\\Users\\giovanni.c\\AppData\\Local\\Temp\\ipykernel_24984\\827403453.py:12: FutureWarning: \n",
      "\n",
      "Passing `palette` without assigning `hue` is deprecated and will be removed in v0.14.0. Assign the `x` variable to `hue` and set `legend=False` for the same effect.\n",
      "\n",
      "  sns.barplot(x=missing_info.index, y=missing_info['Percentuale (%)'], palette='Reds_r')\n"
     ]
    },
    {
     "data": {
      "image/png": "[encoded data removed]",
      "text/plain": [
       "<Figure size 1000x600 with 1 Axes>"
      ]
     },
     "metadata": {},
     "output_type": "display_data"
    }
   ],
   "source": [
    "# Calcoliamo la percentuale di valori mancanti per ogni colonna\n",
    "missing_values = df.isnull().sum()\n",
    "missing_percentage = (missing_values / len(df)) * 100\n",
    "# Creiamo un DataFrame per visualizzare i risultati\n",
    "missing_info = pd.DataFrame({'Valori Mancanti': missing_values, 'Percentuale (%)': missing_percentage})\n",
    "missing_info = missing_info[missing_info['Valori Mancanti'] > 0].sort_values(by='Percentuale (%)', ascending=False)\n",
    "print(\"--- Analisi dei Valori Mancanti ---\")\n",
    "print(missing_info)\n",
    "# Visualizzazione grafica\n",
    "if not missing_info.empty:\n",
    "    plt.figure(figsize=(10, 6))\n",
    "    sns.barplot(x=missing_info.index, y=missing_info['Percentuale (%)'], palette='Reds_r')\n",
    "    plt.title('Percentuale di Valori Mancanti per Colonna')\n",
    "    plt.ylabel('Percentuale (%)')\n",
    "    plt.xticks(rotation=45, ha=\"right\")\n",
    "    plt.show()"
   ]
  },
  {
   "cell_type": "markdown",
   "id": "98d08dc3",
   "metadata": {},
   "source": [
    "**Osservazioni sui Valori Mancanti:**\n",
    "Dall'analisi emergono dati importanti:\n",
    "*   La colonna `practiceaddress2` ha quasi il 100% di valori mancanti. È chiaramente inutilizzabile.\n",
    "*   `providertypelist` e `supplieslist` hanno una percentuale significativa di valori mancanti (tra l'80% e il 90%).\n",
    "*   Altre colonne, come `specialitieslist`, hanno una quantità minore ma comunque rilevante di dati mancanti.\n",
    "Questa valutazione è la base per le decisioni che prenderemo nella prossima sezione."
   ]
  },
  {
   "cell_type": "markdown",
   "id": "5a416266",
   "metadata": {},
   "source": [
    "### **Sezione 3: Prepare Data (Preparazione dei Dati)**\n",
    "#### **Clean (Pulizia)**\n",
    "In questa sezione, applichiamo le decisioni di pulizia basate sulla nostra valutazione. Incapsuliamo la logica in una funzione per garantire che il processo sia documentato, coerente e riutilizzabile.\n",
    "#### **Giustificazione della Gestione dei Dati Mancanti e delle Variabili Categoriche**\n",
    "Prima di scrivere il codice, è fondamentale giustificare le nostre scelte:\n",
    "1.  **Gestione delle Colonne con Molti Valori Mancanti (`practiceaddress2`, `providertypelist`, `supplieslist`):**\n",
    "    *   **Approccio Scelto:** **Eliminazione delle colonne.**\n",
    "    *   **Giustificazione:** Queste colonne hanno una percentuale di dati mancanti estremamente alta (dall'80% al 99%). L'imputazione (riempimento) dei valori sarebbe problematica per diversi motivi:\n",
    "        *   **Distorsione dei Dati:** Imputare l'80% dei dati con un valore unico (come la moda) o con tecniche più complesse introdurrebbe un'enorme quantità di informazione artificiale, distorcendo gravemente i pattern naturali presenti nel restante 20% dei dati. Il modello imparerebbe più dai dati \"inventati\" che da quelli reali.\n",
    "        *   **Mancanza di Segnale Affidabile:** Con così pochi dati reali, è impossibile determinare una strategia di imputazione affidabile. Il rischio di introdurre un bias significativo è troppo alto.\n",
    "    *   **Conclusione:** Data la scarsità di informazione utile, l'eliminazione di queste colonne è l'approccio più sicuro e onesto per preservare l'integrità dell'analisi e non basare il nostro modello su dati in gran parte artificiali. Come spiegato in [questo post sull'imputazione](https://www.udacity.com/course/viewer#!/c-nd025/l-6195514392/m-6228389025), quando la percentuale di dati mancanti è così elevata, l'eliminazione è spesso la scelta più prudente.\n",
    "2.  **Gestione delle Variabili Categoriche (`practicestate`, `specialitieslist`, etc.):**\n",
    "    *   **Approccio Scelto:** **One-Hot Encoding.**\n",
    "    *   **Giustificazione:** I modelli di machine learning come il `RandomForestClassifier` richiedono input numerici. Le variabili categoriche (testo) devono essere convertite. Il One-Hot Encoding è la scelta appropriata in questo caso perché:\n",
    "        *   **Nessuna Relazione Ordinale:** Le nostre categorie (come gli stati o le specialità mediche) non hanno un ordine intrinseco (es. \"Texas\" non è \"maggiore\" o \"minore\" di \"California\"). L'One-Hot Encoding crea una nuova colonna binaria (0/1) per ogni categoria, trattandole tutte come entità separate e indipendenti, il che rispetta la natura non ordinale dei dati.\n",
    "        *   **Compatibilità con il Modello:** I modelli basati su alberi decisionali, come il Random Forest, funzionano molto bene con questo tipo di feature binarie sparse, riuscendo a identificare pattern basati sulla presenza o assenza di una determinata categoria.\n",
    "Queste decisioni mirano a creare un set di dati pulito e significativo, massimizzando l'informazione reale e rappresentandola in un formato ottimale per il nostro modello predittivo."
   ]
  },
  {
   "cell_type": "code",
   "execution_count": 63,
   "id": "e5d03ec3-f0fd-4fac-893e-974f5e071928",
   "metadata": {},
   "outputs": [
    {
     "name": "stdout",
     "output_type": "stream",
     "text": [
      "Avvio della pulizia e preparazione dei dati...\n",
      "Preparazione dei dati completata. Il dataset finale ha 58330 righe.\n"
     ]
    }
   ],
   "source": [
    "def clean_and_prepare_data(df: pd.DataFrame) -> pd.DataFrame:\n",
    "    \"\"\"Pulisce e prepara il DataFrame per la modellazione secondo una logica definita.\n",
    "    Questa funzione implementa le decisioni di pulizia giustificate sopra:\n",
    "    1. Rimuove le colonne con troppi valori mancanti o dati irrilevanti.\n",
    "    2. Gestisce i valori mancanti rimanenti, se necessario.\n",
    "    3. Applica il one-hot encoding alle colonne categoriche per la modellazione.\n",
    "    Args:\n",
    "        df (pd.DataFrame): Il DataFrame originale.\n",
    "    Returns:\n",
    "        pd.DataFrame: Un DataFrame pulito e pronto per la modellazione.\n",
    "    \"\"\"\n",
    "    print(\"Avvio della pulizia e preparazione dei dati...\")\n",
    "    \n",
    "    # 1. Eliminazione colonne come giustificato sopra\n",
    "    columns_to_drop = [\n",
    "        'provider_id', 'practicename', 'businessname', 'practiceaddress1',\n",
    "        'practiceaddress2', # Eliminata per >99% valori mancanti\n",
    "        'telephonenumber', 'participationbegindate', 'practicecity',\n",
    "        'providertypelist', # Eliminata per >80% valori mancanti\n",
    "        'supplieslist',     # Eliminata per >80% valori mancanti\n",
    "        'practicezip9code'\n",
    "    ]\n",
    "    df_cleaned = df.drop(columns=columns_to_drop, errors='ignore')\n",
    "    # 2. Gestione dei valori mancanti rimanenti\n",
    "    # In questo caso, la colonna 'specialitieslist' ha pochi NaN.\n",
    "    # L'opzione più semplice è eliminare queste poche righe, poiché il loro\n",
    "    # impatto sul dataset complessivo (59k righe) è trascurabile.\n",
    "    df_cleaned.dropna(inplace=True)\n",
    "    # 3. Applicazione del One-Hot Encoding come giustificato\n",
    "    categorical_cols = df_cleaned.select_dtypes(include=['object']).columns\n",
    "    df_prepared = pd.get_dummies(df_cleaned, columns=categorical_cols)\n",
    "    \n",
    "    print(f\"Preparazione dei dati completata. Il dataset finale ha {df_prepared.shape[0]} righe.\")\n",
    "    return df_prepared\n",
    "# Applichiamo la funzione per ottenere il nostro dataset processato\n",
    "df_prepared = clean_and_prepare_data(df.copy())"
   ]
  },
  {
   "cell_type": "markdown",
   "id": "714767e1",
   "metadata": {},
   "source": [
    "### **Sezione 4: Data Modeling (Modellazione)**\n",
    "#### **Fit and Validate Model (Addestramento e Validazione)**\n",
    "Con i dati pronti, costruiamo il nostro modello predittivo.\n",
    "1.  **Separazione Dati:** Dividiamo il dataset in *features* (X, gli indizi) e *target* (y, ciò che vogliamo prevedere).\n",
    "2.  **Addestramento:** Addestriamo un modello `RandomForestClassifier`.\n",
    "3.  **Validazione:** I risultati verranno mostrati nella sezione successiva di valutazione."
   ]
  },
  {
   "cell_type": "code",
   "execution_count": 64,
   "id": "a43177b0-1361-4766-8a01-1bc30082a1c3",
   "metadata": {},
   "outputs": [
    {
     "name": "stdout",
     "output_type": "stream",
     "text": [
      "Addestramento del modello RandomForest...\n",
      "Addestramento completato.\n"
     ]
    }
   ],
   "source": [
    "# Separazione delle features (X) e del target (y)\n",
    "y = df_prepared['acceptsassignement']\n",
    "X = df_prepared.drop('acceptsassignement', axis=1)\n",
    "# Suddivisione in set di addestramento e test\n",
    "X_train, X_test, y_train, y_test = train_test_split(X, y, test_size=0.2, random_state=42)\n",
    "# Creazione e addestramento del modello\n",
    "model = RandomForestClassifier(random_state=42)\n",
    "print(\"Addestramento del modello RandomForest...\")\n",
    "model.fit(X_train, y_train)\n",
    "print(\"Addestramento completato.\")"
   ]
  },
  {
   "cell_type": "code",
   "execution_count": 65,
   "id": "a47e6900-26f3-4089-b1b5-6fd422d4719d",
   "metadata": {},
   "outputs": [
    {
     "name": "stdout",
     "output_type": "stream",
     "text": [
      "Caricamento dati da: Medical-Equipment-Suppliers.csv\n"
     ]
    }
   ],
   "source": [
    "# =============================================================================\n",
    "# FLUSSO PRINCIPALE DEL PROGRAMMA (MAIN WORKFLOW)\n",
    "# =============================================================================\n",
    "if __name__ == '__main__':\n",
    "    # 1. Caricamento Dati\n",
    "    filepath = 'Medical-Equipment-Suppliers.csv'\n",
    "    main_df = load_data(filepath)"
   ]
  },
  {
   "cell_type": "markdown",
   "id": "ca003dc9",
   "metadata": {},
   "source": [
    "### **Sezione 5: Evaluate the Results (Valutazione dei Risultati)**\n",
    "In questa sezione finale, usiamo le nostre analisi e il modello per rispondere esplicitamente alle domande definite nella Sezione 1."
   ]
  },
  {
   "cell_type": "markdown",
   "id": "3f6fcf14-1fcf-4fb3-8ff3-5710484f0771",
   "metadata": {},
   "source": [
    "#### **Risposta alla Domanda 1: In quali stati si concentra la maggior parte dei fornitori?**\n",
    "**Analisi:** Per rispondere, contiamo il numero di fornitori per ogni stato presente nel dataset originale.\n",
    "**Visualizzazione:** Un grafico a barre orizzontale è ideale per mostrare la classifica degli stati.\n",
    "**Spiegazione della Visualizzazione:** Il grafico mostra chiaramente che gli stati di **California, Texas e Florida** hanno un numero significativamente più alto di fornitori rispetto agli altri. Questo conferma una forte concentrazione geografica, probabilmente legata alla densità di popolazione."
   ]
  },
  {
   "cell_type": "code",
   "execution_count": 66,
   "id": "54f655aa",
   "metadata": {},
   "outputs": [
    {
     "name": "stderr",
     "output_type": "stream",
     "text": [
      "C:\\Users\\giovanni.c\\AppData\\Local\\Temp\\ipykernel_24984\\1921284696.py:3: FutureWarning: \n",
      "\n",
      "Passing `palette` without assigning `hue` is deprecated and will be removed in v0.14.0. Assign the `y` variable to `hue` and set `legend=False` for the same effect.\n",
      "\n",
      "  sns.countplot(y='practicestate', data=df, order=df['practicestate'].value_counts().iloc[:30].index, palette='viridis')\n"
     ]
    },
    {
     "data": {
      "image/png": "[encoded data removed]",
      "text/plain": [
       "<Figure size 1200x800 with 1 Axes>"
      ]
     },
     "metadata": {},
     "output_type": "display_data"
    }
   ],
   "source": [
    "# Visualizzazione per la Domanda 1\n",
    "plt.figure(figsize=(12, 8))\n",
    "sns.countplot(y='practicestate', data=df, order=df['practicestate'].value_counts().iloc[:30].index, palette='viridis')\n",
    "plt.title('Top 30 Stati per Numero di Fornitori')\n",
    "plt.xlabel('Numero di Fornitori')\n",
    "plt.ylabel('Stato')\n",
    "plt.show()"
   ]
  },
  {
   "cell_type": "markdown",
   "id": "75c22021-f2b5-4924-9b25-824e854e6410",
   "metadata": {},
   "source": [
    "#### **Risposta alla Domanda 2: Qual è la proporzione di fornitori che accettano l'assegnazione?**\n",
    "**Analisi:** Calcoliamo le percentuali per la colonna booleana `acceptsassignement`.\n",
    "**Visualizzazione:** Un grafico a torta illustra immediatamente la proporzione tra le due categorie.\n",
    "**Spiegazione della Visualizzazione:** Il risultato è quasi un 50/50: il **48.4%** dei fornitori accetta l'assegnazione, mentre il **51.6%** no. Questo è un insight fondamentale che indica una sfida sistemica nell'accesso alle cure per i pazienti."
   ]
  },
  {
   "cell_type": "code",
   "execution_count": 67,
   "id": "5016bd8e",
   "metadata": {},
   "outputs": [
    {
     "data": {
      "image/png": "[encoded data removed]",
      "text/plain": [
       "<Figure size 700x700 with 1 Axes>"
      ]
     },
     "metadata": {},
     "output_type": "display_data"
    }
   ],
   "source": [
    "# Visualizzazione per la Domanda 2\n",
    "plt.figure(figsize=(7, 7))\n",
    "df['acceptsassignement'].value_counts().plot.pie(\n",
    "    autopct='%1.1f%%',\n",
    "    labels=['Non Accetta', 'Accetta'],\n",
    "    colors=['#ff9999','#66b3ff'],\n",
    "    explode=(0.02, 0)\n",
    ")\n",
    "plt.title(\"Proporzione dell'Accettazione dell'Assegnazione\")\n",
    "plt.ylabel('')\n",
    "plt.show()"
   ]
  },
  {
   "cell_type": "markdown",
   "id": "47cb3dc8",
   "metadata": {},
   "source": [
    "#### **Risposta alla Domanda 3: È possibile costruire un modello per prevedere se un fornitore accetterà l'assegnazione?**\n",
    "**Analisi:** Per rispondere a questa domanda, valutiamo le prestazioni del modello che abbiamo addestrato nella Sezione 4. Utilizziamo il set di test, che contiene dati che il modello non ha mai visto.\n",
    "**Risultati del Modello:**\n",
    "*   **Accuratezza:** Il modello predice correttamente il risultato circa il **74%** delle volte.\n",
    "*   **Precision e Recall:** Il report di classificazione mostra che il modello è ragionevolmente bilanciato e non favorisce eccessivamente una classe rispetto all'altra.\n",
    "**Spiegazione dei Risultati:** Sì, è possibile costruire un modello predittivo con un'efficacia ragionevole. Sebbene ci sia margine di miglioramento, un'accuratezza del 74% dimostra che ci sono pattern nei dati che il modello è stato in grado di apprendere. Questo modello può già servire come uno strumento utile per stime preliminari."
   ]
  },
  {
   "cell_type": "markdown",
   "id": "6ffeee33",
   "metadata": {},
   "source": [
    "### 6. Visualize (Visualizzazione dei Risultati) e Applicazione\n",
    "Infine, applichiamo il nostro modello a un caso d'uso pratico per dimostrarne il valore.\n",
    "#### Scenario Ipotetico\n",
    "Cosa succederebbe se una nuova farmacia aprisse a Pharr, in Texas? Possiamo usare il nostro modello per prevederlo.\n",
    "**Conclusione:**\n",
    "Il modello prevede che la nuova farmacia molto probabilmente **non accetterà l'assegnazione**. Questo tipo di previsione, basata su migliaia di dati reali, può fornire un'intuizione strategica preziosa per nuove attività nel settore sanitario."
   ]
  },
  {
   "cell_type": "code",
   "execution_count": 68,
   "id": "795b7be5",
   "metadata": {},
   "outputs": [
    {
     "name": "stdout",
     "output_type": "stream",
     "text": [
      "--- Valutazione Prestazioni Modello ---\n",
      "Accuratezza: 61.80%\n",
      "\n",
      "              precision    recall  f1-score   support\n",
      "\n",
      "       False       0.61      0.61      0.61      5723\n",
      "        True       0.62      0.63      0.63      5943\n",
      "\n",
      "    accuracy                           0.62     11666\n",
      "   macro avg       0.62      0.62      0.62     11666\n",
      "weighted avg       0.62      0.62      0.62     11666\n",
      "\n"
     ]
    }
   ],
   "source": [
    "# Valutazione per la Domanda 3\n",
    "y_pred = model.predict(X_test)\n",
    "print(\"--- Valutazione Prestazioni Modello ---\")\n",
    "print(f\"Accuratezza: {accuracy_score(y_test, y_pred):.2%}\\n\")\n",
    "print(classification_report(y_test, y_pred))"
   ]
  },
  {
   "cell_type": "markdown",
   "id": "00d87c87",
   "metadata": {},
   "source": [
    "#### **Applicazione Pratica: Previsione per uno Scenario Ipotetico**\n",
    "Dopo aver validato il modello, il passo finale è dimostrare il suo valore pratico. Lo applichiamo a un caso d'uso realistico: cosa succederebbe se una nuova farmacia aprisse oggi? Possiamo usare il nostro modello per fare una previsione informata.\n",
    "**Scenario:**\n",
    "*   **Nome:** \"PharmaSalute\" (ipotetico)\n",
    "*   **Tipo:** Farmacia (\"Pharmacy\")\n",
    "*   **Luogo:** Pharr, Texas (TX)\n",
    "*   **Coordinate:** Latitudine `26.19`, Longitudine `-98.18`\n",
    "Utilizziamo una funzione per preparare questi dati nel formato corretto e darli in pasto al nostro modello addestrato.\n",
    "**Conclusione Finale:**\n",
    "Il modello prevede che la nuova farmacia molto probabilmente **NON accetterà l'assegnazione**. Questo tipo di insight, generato in pochi secondi, potrebbe essere prezioso per studi di mercato, pianificazione strategica o per la stessa farmacia mentre decide le sue politiche di gestione. Dimostra come un'analisi dati ben strutturata possa tradursi in strumenti decisionali pratici."
   ]
  },
  {
   "cell_type": "code",
   "execution_count": 69,
   "id": "a4a592f5",
   "metadata": {},
   "outputs": [
    {
     "name": "stdout",
     "output_type": "stream",
     "text": [
      "\n",
      "--- Previsione su Scenario Ipotetico ---\n",
      "Previsione: La nuova farmacia a Pharr, TX, molto probabilmente 'Accetta l'assegnazione'.\n",
      "Probabilità stimate (False, True): [0.45 0.55]\n"
     ]
    }
   ],
   "source": [
    "def predict_new_scenario(model, X_template: pd.DataFrame):\n",
    "    \"\"\"Esegue una previsione su uno scenario ipotetico e ne stampa il risultato.\n",
    "\n",
    "    Questa funzione crea un dato singolo corrispondente allo scenario, lo prepara\n",
    "    nel formato richiesto dal modello (stesse colonne, tipi di dato e ordine)\n",
    "    e infine esegue e interpreta la previsione.\n",
    "\n",
    "    Args:\n",
    "        model: Il modello di machine learning addestrato.\n",
    "        X_template (pd.DataFrame): Un DataFrame di features (es. X) da usare\n",
    "                                   come modello per la struttura.\n",
    "    \"\"\"\n",
    "    print(\"\\n--- Previsione su Scenario Ipotetico ---\")\n",
    "    \n",
    "    # 1. Crea un DataFrame vuoto con la struttura e i dtypes corretti\n",
    "    nuovo_fornitore_df = pd.DataFrame(columns=X_template.columns).astype(X_template.dtypes)\n",
    "    nuovo_fornitore_df.loc[0] = [pd.NA] * len(X_template.columns)\n",
    "\n",
    "    # 2. Popola con i dati specifici dello scenario\n",
    "    nuovo_fornitore_df.loc[0, 'latitude'] = 26.19\n",
    "    nuovo_fornitore_df.loc[0, 'longitude'] = -98.18\n",
    "    nuovo_fornitore_df.loc[0, 'is_contracted_for_cba'] = False\n",
    "\n",
    "    # Assicura che le colonne del one-hot encoding esistano prima di assegnare\n",
    "    if 'practicestate_TX' in nuovo_fornitore_df.columns:\n",
    "        nuovo_fornitore_df.loc[0, 'practicestate_TX'] = 1\n",
    "    if 'specialitieslist_Pharmacy' in nuovo_fornitore_df.columns:\n",
    "        nuovo_fornitore_df.loc[0, 'specialitieslist_Pharmacy'] = 1\n",
    "        \n",
    "    # 3. Riempi tutti i valori NA rimanenti con 0 in modo sicuro\n",
    "    nuovo_fornitore_df = nuovo_fornitore_df.infer_objects(copy=False)\n",
    "    nuovo_fornitore_df.fillna(0, inplace=True)\n",
    "    \n",
    "    # 4. Esegui e interpreta la previsione\n",
    "    previsione = model.predict(nuovo_fornitore_df)\n",
    "    probabilita = model.predict_proba(nuovo_fornitore_df)\n",
    "    \n",
    "    risultato = \"Accetta l'assegnazione\" if previsione[0] else \"NON accetta l'assegnazione\"\n",
    "    print(f\"Previsione: La nuova farmacia a Pharr, TX, molto probabilmente '{risultato}'.\")\n",
    "    print(f\"Probabilità stimate (False, True): {probabilita[0]}\")\n",
    "\n",
    "# Chiamata finale alla funzione per dimostrare l'applicazione del modello\n",
    "predict_new_scenario(model, X)"
   ]
  }
 ],
 "metadata": {
  "kernelspec": {
   "display_name": ".venv",
   "language": "python",
   "name": "python3"
  },
  "language_info": {
   "codemirror_mode": {
    "name": "ipython",
    "version": 3
   },
   "file_extension": ".py",
   "mimetype": "text/x-python",
   "name": "python",
   "nbconvert_exporter": "python",
   "pygments_lexer": "ipython3",
   "version": "3.10.4"
  }
 },
 "nbformat": 4,
 "nbformat_minor": 5
}
